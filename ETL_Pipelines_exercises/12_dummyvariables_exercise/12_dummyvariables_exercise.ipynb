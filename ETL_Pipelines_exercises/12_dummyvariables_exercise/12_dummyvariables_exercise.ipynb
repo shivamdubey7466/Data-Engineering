{
 "cells": [
  {
   "cell_type": "markdown",
   "metadata": {},
   "source": [
    "# Dummy Variables Exercise\n",
    "\n",
    "In this exercise, you'll create dummy variables from the projects data set. The idea is to transform categorical data like this:\n",
    "\n",
    "| Project ID | Project Category |\n",
    "|------------|------------------|\n",
    "| 0          | Energy           |\n",
    "| 1          | Transportation   |\n",
    "| 2          | Health           |\n",
    "| 3          | Employment       |\n",
    "\n",
    "into new features that look like this:\n",
    "\n",
    "| Project ID | Energy | Transportation | Health | Employment |\n",
    "|------------|--------|----------------|--------|------------|\n",
    "| 0          | 1      | 0              | 0      | 0          |\n",
    "| 1          | 0      | 1              | 0      | 0          |\n",
    "| 2          | 0      | 0              | 1      | 0          |\n",
    "| 3          | 0      | 0              | 0      | 1          |\n",
    "\n",
    "\n",
    "(Note if you were going to use this data with a model influenced by multicollinearity, you would want to eliminate one of the columns to avoid redundant information.) \n",
    "\n",
    "The reasoning behind these transformations is that machine learning algorithms read in numbers not text. Text needs to be converted into numbers. You could assign a number to each category like 1, 2, 3, and 4. But a categorical variable has no inherent order.\n",
    "\n",
    "Pandas makes it very easy to create dummy variables with the [get_dummies](https://pandas.pydata.org/pandas-docs/stable/generated/pandas.get_dummies.html) method. In this exercise, you'll create dummy variables from the World Bank projects data; however, there's a caveat. The World Bank data is not particularly clean, so you'll need to explore and wrangle the data first.\n",
    "\n",
    "You'll focus on the text values in the sector variables.\n",
    "\n",
    "Run the code cells below to read in the World Bank projects data set and then to filter out the data for text variables. "
   ]
  },
  {
   "cell_type": "code",
   "execution_count": 1,
   "metadata": {},
   "outputs": [
    {
     "name": "stdout",
     "output_type": "stream",
     "text": [
      "<class 'pandas.core.frame.DataFrame'>\n",
      "RangeIndex: 18248 entries, 0 to 18247\n",
      "Data columns (total 57 columns):\n",
      " #   Column                    Non-Null Count  Dtype \n",
      "---  ------                    --------------  ----- \n",
      " 0   id                        18248 non-null  object\n",
      " 1   regionname                18248 non-null  object\n",
      " 2   countryname               18248 non-null  object\n",
      " 3   prodline                  18248 non-null  object\n",
      " 4   lendinginstr              18002 non-null  object\n",
      " 5   lendinginstrtype          18002 non-null  object\n",
      " 6   envassesmentcategorycode  12437 non-null  object\n",
      " 7   supplementprojectflg      18195 non-null  object\n",
      " 8   productlinetype           18248 non-null  object\n",
      " 9   projectstatusdisplay      18244 non-null  object\n",
      " 10  status                    18244 non-null  object\n",
      " 11  project_name              18248 non-null  object\n",
      " 12  boardapprovaldate         16744 non-null  object\n",
      " 13  board_approval_month      16744 non-null  object\n",
      " 14  closingdate               14899 non-null  object\n",
      " 15  lendprojectcost           18123 non-null  object\n",
      " 16  ibrdcommamt               18248 non-null  object\n",
      " 17  idacommamt                18248 non-null  object\n",
      " 18  totalamt                  18248 non-null  object\n",
      " 19  grantamt                  18248 non-null  object\n",
      " 20  borrower                  12329 non-null  object\n",
      " 21  impagency                 12151 non-null  object\n",
      " 22  url                       18248 non-null  object\n",
      " 23  projectdoc                0 non-null      object\n",
      " 24  majorsector_percent       0 non-null      object\n",
      " 25  sector1                   18248 non-null  object\n",
      " 26  sector2                   9527 non-null   object\n",
      " 27  sector3                   6487 non-null   object\n",
      " 28  sector4                   4376 non-null   object\n",
      " 29  sector5                   2713 non-null   object\n",
      " 30  sector                    17610 non-null  object\n",
      " 31  mjsector1                 0 non-null      object\n",
      " 32  mjsector2                 0 non-null      object\n",
      " 33  mjsector3                 0 non-null      object\n",
      " 34  mjsector4                 0 non-null      object\n",
      " 35  mjsector5                 0 non-null      object\n",
      " 36  mjsector                  17610 non-null  object\n",
      " 37  theme1                    18248 non-null  object\n",
      " 38  theme2                    9853 non-null   object\n",
      " 39  theme3                    7484 non-null   object\n",
      " 40  theme4                    5234 non-null   object\n",
      " 41  theme5                    2928 non-null   object\n",
      " 42  theme                     0 non-null      object\n",
      " 43  goal                      12133 non-null  object\n",
      " 44  financier                 7060 non-null   object\n",
      " 45  mjtheme1name              0 non-null      object\n",
      " 46  mjtheme2name              0 non-null      object\n",
      " 47  mjtheme3name              0 non-null      object\n",
      " 48  mjtheme4name              0 non-null      object\n",
      " 49  mjtheme5name              0 non-null      object\n",
      " 50  location                  4326 non-null   object\n",
      " 51  GeoLocID                  4326 non-null   object\n",
      " 52  GeoLocName                4325 non-null   object\n",
      " 53  Latitude                  4326 non-null   object\n",
      " 54  Longitude                 4326 non-null   object\n",
      " 55  Country                   4203 non-null   object\n",
      " 56  Unnamed: 56               0 non-null      object\n",
      "dtypes: object(57)\n",
      "memory usage: 7.9+ MB\n"
     ]
    }
   ],
   "source": [
    "import pandas as pd\n",
    "import numpy as np\n",
    "\n",
    "projects = pd.read_csv('../data/projects_data.csv',dtype='str')\n",
    "projects.info()"
   ]
  },
  {
   "cell_type": "code",
   "execution_count": 2,
   "metadata": {},
   "outputs": [],
   "source": [
    "import pandas as pd\n",
    "import numpy as np\n",
    "\n",
    "# read in the projects data set and do basic wrangling \n",
    "projects = pd.read_csv('../data/projects_data.csv', dtype=str)\n",
    "projects.drop('Unnamed: 56', axis=1, inplace=True)\n",
    "projects['totalamt'] = pd.to_numeric(projects['totalamt'].str.replace(',', ''))\n",
    "projects['countryname'] = projects['countryname'].str.split(';', expand=True)[0]\n",
    "projects['boardapprovaldate'] = pd.to_datetime(projects['boardapprovaldate'])\n",
    "\n",
    "# keep the project name, lending, sector and theme data\n",
    "sector = projects.copy()\n",
    "sector = sector[['project_name', 'lendinginstr', 'sector1', 'sector2', 'sector3', 'sector4', 'sector5', 'sector',\n",
    "          'mjsector1', 'mjsector2', 'mjsector3', 'mjsector4', 'mjsector5',\n",
    "          'mjsector', 'theme1', 'theme2', 'theme3', 'theme4', 'theme5', 'theme ',\n",
    "          'goal', 'financier', 'mjtheme1name', 'mjtheme2name', 'mjtheme3name',\n",
    "          'mjtheme4name', 'mjtheme5name']]"
   ]
  },
  {
   "cell_type": "markdown",
   "metadata": {},
   "source": [
    "Run the code cell below. This cell shows the percentage of each variable that is null. Notice the mjsector1 through mjsector5 variables are all null. The mjtheme1name through mjtheme5name are also all null as well as the theme variable. \n",
    "\n",
    "Because these variables contain so many null values, they're probably not very useful."
   ]
  },
  {
   "cell_type": "code",
   "execution_count": 3,
   "metadata": {},
   "outputs": [
    {
     "data": {
      "text/plain": [
       "project_name      0.000000\n",
       "lendinginstr      1.348093\n",
       "sector1           0.000000\n",
       "sector2          47.791539\n",
       "sector3          64.450899\n",
       "sector4          76.019290\n",
       "sector5          85.132617\n",
       "sector            3.496274\n",
       "mjsector1       100.000000\n",
       "mjsector2       100.000000\n",
       "mjsector3       100.000000\n",
       "mjsector4       100.000000\n",
       "mjsector5       100.000000\n",
       "mjsector          3.496274\n",
       "theme1            0.000000\n",
       "theme2           46.005042\n",
       "theme3           58.987286\n",
       "theme4           71.317405\n",
       "theme5           83.954406\n",
       "theme           100.000000\n",
       "goal             33.510522\n",
       "financier        61.310829\n",
       "mjtheme1name    100.000000\n",
       "mjtheme2name    100.000000\n",
       "mjtheme3name    100.000000\n",
       "mjtheme4name    100.000000\n",
       "mjtheme5name    100.000000\n",
       "dtype: float64"
      ]
     },
     "execution_count": 3,
     "metadata": {},
     "output_type": "execute_result"
    }
   ],
   "source": [
    "# output percentage of values that are missing\n",
    "100 * sector.isnull().sum() / sector.shape[0]"
   ]
  },
  {
   "cell_type": "markdown",
   "metadata": {},
   "source": [
    "The sector1 variable looks promising; it doesn't contain any null values at all. In the next cell, store the unique sector1 values in a list and output the results. Use the sort_values() and unique() methods."
   ]
  },
  {
   "cell_type": "code",
   "execution_count": 4,
   "metadata": {},
   "outputs": [
    {
     "data": {
      "text/plain": [
       "array(['!$!0', 'Social Protection!$!63!$!SA', 'Urban Transport!$!95!$!TC',\n",
       "       'Other Public Administration!$!56!$!BZ',\n",
       "       'Workforce Development and Vocational Education!$!89!$!EW',\n",
       "       'Energy Transmission and Distribution!$!7!$!LT',\n",
       "       'Renewable Energy Solar!$!95!$!LU',\n",
       "       'Other Industry; Trade and Services!$!33!$!YZ', 'Health!$!93!$!HG',\n",
       "       'Other Public Administration!$!64!$!BZ',\n",
       "       'Renewable Energy Solar!$!100!$!LU',\n",
       "       'Other Industry; Trade and Services!$!67!$!YZ',\n",
       "       'Other Public Administration!$!100!$!BZ', 'Water Supply!$!94!$!WC',\n",
       "       'Primary Education!$!49!$!EP',\n",
       "       'Other Water Supply; Sanitation and Waste Management!$!89!$!WZ',\n",
       "       'Public Administration - Energy and Extractives!$!7!$!LP',\n",
       "       'Central Government (Central Agencies)!$!73!$!BC',\n",
       "       'ICT Services!$!9!$!CS', 'Rural and Inter-Urban Roads!$!91!$!TI',\n",
       "       'Public Administration - Education!$!7!$!EF', 'Health!$!59!$!HG',\n",
       "       'Central Government (Central Agencies)!$!100!$!BC',\n",
       "       'Other Industry; Trade and Services!$!70!$!YZ',\n",
       "       'Other Industry; Trade and Services!$!63!$!YZ',\n",
       "       'Central Government (Central Agencies)!$!9!$!BC',\n",
       "       'Central Government (Central Agencies)!$!68!$!BC',\n",
       "       'Sub-National Government!$!100!$!BH', 'Other Education!$!60!$!EZ',\n",
       "       'Other Transportation!$!8!$!TZ'], dtype=object)"
      ]
     },
     "execution_count": 4,
     "metadata": {},
     "output_type": "execute_result"
    }
   ],
   "source": [
    "# TODO: Create a list of the unique values in sector1. Use the sort_values() and unique() pandas methods. \n",
    "# And then convert those results into a Python list\n",
    "uniquesectors1 = sector['sector1'].unique()\n",
    "uniquesectors1[:30]"
   ]
  },
  {
   "cell_type": "code",
   "execution_count": 5,
   "metadata": {},
   "outputs": [
    {
     "name": "stdout",
     "output_type": "stream",
     "text": [
      "Number of unique values in sector1: 3060\n"
     ]
    }
   ],
   "source": [
    "# run this code cell to see the number of unique values\n",
    "print('Number of unique values in sector1:', len(uniquesectors1))"
   ]
  },
  {
   "cell_type": "markdown",
   "metadata": {},
   "source": [
    "3060 different categories is quite a lot! Remember that with dummy variables, if you have n categorical values, you need n - 1 new variables! That means 3059 extra columns! \n",
    "\n",
    "There are a few issues with this 'sector1' variable. First, there are values labeled '!$!0'. These should be substituted with NaN.\n",
    "\n",
    "Furthermore, each sector1 value ends with a ten or eleven character string like '!$!49!$!EP'. Some sectors show up twice in the list like:\n",
    " 'Other Industry; Trade and Services!$!70!$!YZ',\n",
    " 'Other Industry; Trade and Services!$!63!$!YZ',\n",
    "\n",
    "But it seems like those are actually the same sector. You'll need to remove everything past the exclamation point. \n",
    "\n",
    "Many values in the sector1 variable start with the term '(Historic)'. Try removing that phrase as well.\n",
    "\n",
    "Fix these issues in the code cell below."
   ]
  },
  {
   "cell_type": "code",
   "execution_count": 6,
   "metadata": {},
   "outputs": [
    {
     "data": {
      "text/plain": [
       "0                           !$!0\n",
       "1                           !$!0\n",
       "2                           !$!0\n",
       "3                           !$!0\n",
       "4    Social Protection!$!63!$!SA\n",
       "5                           !$!0\n",
       "6                           !$!0\n",
       "7                           !$!0\n",
       "8                           !$!0\n",
       "9                           !$!0\n",
       "Name: sector1, dtype: object"
      ]
     },
     "execution_count": 6,
     "metadata": {},
     "output_type": "execute_result"
    }
   ],
   "source": [
    "sector['sector1'][:10]"
   ]
  },
  {
   "cell_type": "code",
   "execution_count": 7,
   "metadata": {},
   "outputs": [
    {
     "name": "stdout",
     "output_type": "stream",
     "text": [
      "Number of unique sectors after cleaning: 156\n",
      "Percentage of null values after cleaning: 3.4962735642262164\n"
     ]
    }
   ],
   "source": [
    "# TODO: In the sector1 variable, replace the string '!$10' with nan\n",
    "#       Put the results back into the sector1 variable\n",
    "# HINT: you can use the pandas replace() method and numpy.nan\n",
    "\n",
    "sector['sector1'] = sector['sector1'].replace('!$!0',np.nan)\n",
    "\n",
    "# TODO: In the sector1 variable, remove the last 10 or 11 characters from the sector1 variable.\n",
    "# HINT: There is more than one way to do this. For example,\n",
    "# you can use the replace method with a regex expression '!.+'\n",
    "# That regex expression looks for a string with an exclamation\n",
    "# point followed by one or more characters\n",
    "\n",
    "sector['sector1'] = sector['sector1'].replace('!.+','',regex=True)\n",
    "\n",
    "# TODO: Remove the string '(Historic)' from the sector1 variable\n",
    "# HINT: You can use the replace method\n",
    "\n",
    "sector['sector1'] = sector['sector1'].replace('^(\\(Historic\\))','',regex=True)\n",
    "\n",
    "print('Number of unique sectors after cleaning:', len(list(sector['sector1'].unique())))\n",
    "print('Percentage of null values after cleaning:', 100 * sector['sector1'].isnull().sum() / sector['sector1'].shape[0])"
   ]
  },
  {
   "cell_type": "markdown",
   "metadata": {},
   "source": [
    "Now there are 156 unique categorical values. That's better than 3060. If you were going to use this data with a supervised learning machine model, you could try converting these 156 values to dummy variables. You'd still have to train and test a model to see if those are good features.\n",
    "\n",
    "But can you do anything else with the sector1 variable?\n",
    "\n",
    "The percentage of null values for 'sector1' is now 3.49%. That turns out to be the same number as the null values for the 'sector' column. You can see this if you scroll back up to where the code calculated the percentage of null values for each variable. \n",
    "\n",
    "Perhaps the 'sector1' and 'sector' variable have the same information. If you look at the 'sector' variable, however, it also needs cleaning. The values look like this:\n",
    "\n",
    "'Urban Transport;Urban Transport;Public Administration - Transportation'\n",
    "\n",
    "It turns out the 'sector' variable combines information from the 'sector1' through 'sector5' variables and the 'mjsector' variable. Run the code cell below to look at the sector variable."
   ]
  },
  {
   "cell_type": "code",
   "execution_count": 8,
   "metadata": {},
   "outputs": [
    {
     "data": {
      "text/plain": [
       "0                                                      NaN\n",
       "1                                                      NaN\n",
       "2                                                      NaN\n",
       "3                                                      NaN\n",
       "4        Social Protection;Social Protection;Other Indu...\n",
       "                               ...                        \n",
       "18243                      (Historic)Hydro;(Historic)Hydro\n",
       "18244    (Historic)Economic management;(Historic)Econom...\n",
       "18245    (Historic)Economic management;(Historic)Econom...\n",
       "18246    (Historic)Economic management;(Historic)Econom...\n",
       "18247    (Historic)Economic management;(Historic)Econom...\n",
       "Name: sector, Length: 18248, dtype: object"
      ]
     },
     "execution_count": 8,
     "metadata": {},
     "output_type": "execute_result"
    }
   ],
   "source": [
    "sector['sector']"
   ]
  },
  {
   "cell_type": "markdown",
   "metadata": {},
   "source": [
    "What else can you do? If you look at all of the diferent sector1 categories, it might be useful to combine a few of them together. For example, there are various categories with the term \"Energy\" in them. And then there are other categories that seem related to energy but don't have the word energy in them like \"Thermal\" and \"Hydro\". Some categories have the term \"Renewable Energy\", so perhaps you could make a separate \"Renewable Energy\" category.\n",
    "\n",
    "Similarly, there are categories with the term \"Transportation\" in them, and then there are related categories like \"Highways\".\n",
    "\n",
    "In the next cell, find all sector1 values with the term 'Energy' in them. For each of these rows, put the string 'energy' in a new column called 'sector1_aggregates'. Do the same for \"Transportation\". "
   ]
  },
  {
   "cell_type": "code",
   "execution_count": 71,
   "metadata": {},
   "outputs": [],
   "source": [
    "sector.loc[:,'sector1_aggregates'] = sector['sector1']"
   ]
  },
  {
   "cell_type": "code",
   "execution_count": 15,
   "metadata": {},
   "outputs": [
    {
     "name": "stdout",
     "output_type": "stream",
     "text": [
      "Number of unique sectors after cleaning: 145\n"
     ]
    }
   ],
   "source": [
    "import re\n",
    "\n",
    "# Create the sector1_aggregates variable\n",
    "sector.loc[:,'sector1_aggregates'] = sector['sector1']\n",
    "\n",
    "# TODO: The code above created a new variable called sector1_aggregates. \n",
    "#       Currently, sector1_aggregates has all of the same values as sector1\n",
    "#       For this task, find all the rows in sector1_aggregates with the term 'Energy' in them, \n",
    "#       For all of these rows, replace whatever is the value is with the term 'Energy'.\n",
    "#       The idea is to simplify the category names by combining various categories together.\n",
    "#       Then, do the same for the term 'Transportation\n",
    "# HINT: You can use the contains() methods. See the documentation for how to ignore case using the re library\n",
    "# HINT: You might get an error saying \"cannot index with vector containing NA / NaN values.\" \n",
    "#       Try converting NaN values to something else like False or a string\n",
    "\n",
    "\n",
    "sector.loc[sector['sector1_aggregates'].str.contains('Energy',re.IGNORECASE).replace(np.nan,False),'sector1_aggregates'] = 'Energy'\n",
    "sector.loc[sector['sector1_aggregates'].str.contains('Transportation',re.IGNORECASE).replace(np.nan,False),'sector1_aggregates'] = 'Transportation'\n",
    "print('Number of unique sectors after cleaning:', len(list(sector['sector1_aggregates'].unique())))"
   ]
  },
  {
   "cell_type": "markdown",
   "metadata": {},
   "source": [
    "The number of unique sectors continues to go down. Keep in mind that how much to consolidate will depend on your machine learning model performance and your hardware's ability to handle the extra features in memory. If your hardware's memory can handle 3060 new features and your machine learning algorithm performs better, then go for it!\n",
    "\n",
    "There are still 638 entries with NaN values. How could you fill these in? You might try to determine an appropriate category from the 'project_name' or 'lendinginstr' variables. If you make dummy variables including NaN values, then you could consider a feature with all zeros to represent NaN. Or you could delete these records from the data set. Pandas will ignore NaN values by default. That means, for a given row, all dummy variables will have a value of 0 if the sector1 value was NaN.\n",
    "\n",
    "Don't forget about the bigger context! This data is being prepared for a machine learning algorithm. Whatever techniques you use to engineer new features, you'll need to use those when running your model on new data. So if your new data does not contain a sector1 value, you'll have to run whatever feature engineering processes you did on your training set.\n",
    "\n",
    "In this final set, use the pandas pd.get_dummies() method to create dummy variables. Then use the concat() method to concatenate the dummy variables to a dataframe that contains the project totalamt variable and the project year from the boardapprovaldate."
   ]
  },
  {
   "cell_type": "code",
   "execution_count": 18,
   "metadata": {},
   "outputs": [
    {
     "data": {
      "text/plain": [
       "638"
      ]
     },
     "execution_count": 18,
     "metadata": {},
     "output_type": "execute_result"
    }
   ],
   "source": [
    "sector['sector1_aggregates'].isna().sum()"
   ]
  },
  {
   "cell_type": "code",
   "execution_count": 24,
   "metadata": {},
   "outputs": [
    {
     "data": {
      "text/html": [
       "<div>\n",
       "<style scoped>\n",
       "    .dataframe tbody tr th:only-of-type {\n",
       "        vertical-align: middle;\n",
       "    }\n",
       "\n",
       "    .dataframe tbody tr th {\n",
       "        vertical-align: top;\n",
       "    }\n",
       "\n",
       "    .dataframe thead th {\n",
       "        text-align: right;\n",
       "    }\n",
       "</style>\n",
       "<table border=\"1\" class=\"dataframe\">\n",
       "  <thead>\n",
       "    <tr style=\"text-align: right;\">\n",
       "      <th></th>\n",
       "      <th>totalamt</th>\n",
       "      <th>year</th>\n",
       "      <th>Adult; Basic and Continuing Education</th>\n",
       "      <th>Agency reform</th>\n",
       "      <th>Agricultural Extension; Research; and Other Support Activities</th>\n",
       "      <th>Agricultural credit</th>\n",
       "      <th>Agricultural extension</th>\n",
       "      <th>Agricultural markets; commercialization and agri-business</th>\n",
       "      <th>Agriculture adjustment</th>\n",
       "      <th>Agro-industry</th>\n",
       "      <th>...</th>\n",
       "      <th>Urban environment</th>\n",
       "      <th>Urban housing</th>\n",
       "      <th>Urban management</th>\n",
       "      <th>Urban transport</th>\n",
       "      <th>Urban water supply</th>\n",
       "      <th>Vocational training</th>\n",
       "      <th>Waste Management</th>\n",
       "      <th>Water Supply</th>\n",
       "      <th>Water supply and sanitation adjustment</th>\n",
       "      <th>Workforce Development and Vocational Education</th>\n",
       "    </tr>\n",
       "  </thead>\n",
       "  <tbody>\n",
       "    <tr>\n",
       "      <th>0</th>\n",
       "      <td>0</td>\n",
       "      <td>2018.0</td>\n",
       "      <td>0</td>\n",
       "      <td>0</td>\n",
       "      <td>0</td>\n",
       "      <td>0</td>\n",
       "      <td>0</td>\n",
       "      <td>0</td>\n",
       "      <td>0</td>\n",
       "      <td>0</td>\n",
       "      <td>...</td>\n",
       "      <td>0</td>\n",
       "      <td>0</td>\n",
       "      <td>0</td>\n",
       "      <td>0</td>\n",
       "      <td>0</td>\n",
       "      <td>0</td>\n",
       "      <td>0</td>\n",
       "      <td>0</td>\n",
       "      <td>0</td>\n",
       "      <td>0</td>\n",
       "    </tr>\n",
       "    <tr>\n",
       "      <th>1</th>\n",
       "      <td>200000000</td>\n",
       "      <td>2018.0</td>\n",
       "      <td>0</td>\n",
       "      <td>0</td>\n",
       "      <td>0</td>\n",
       "      <td>0</td>\n",
       "      <td>0</td>\n",
       "      <td>0</td>\n",
       "      <td>0</td>\n",
       "      <td>0</td>\n",
       "      <td>...</td>\n",
       "      <td>0</td>\n",
       "      <td>0</td>\n",
       "      <td>0</td>\n",
       "      <td>0</td>\n",
       "      <td>0</td>\n",
       "      <td>0</td>\n",
       "      <td>0</td>\n",
       "      <td>0</td>\n",
       "      <td>0</td>\n",
       "      <td>0</td>\n",
       "    </tr>\n",
       "    <tr>\n",
       "      <th>2</th>\n",
       "      <td>58330000</td>\n",
       "      <td>2018.0</td>\n",
       "      <td>0</td>\n",
       "      <td>0</td>\n",
       "      <td>0</td>\n",
       "      <td>0</td>\n",
       "      <td>0</td>\n",
       "      <td>0</td>\n",
       "      <td>0</td>\n",
       "      <td>0</td>\n",
       "      <td>...</td>\n",
       "      <td>0</td>\n",
       "      <td>0</td>\n",
       "      <td>0</td>\n",
       "      <td>0</td>\n",
       "      <td>0</td>\n",
       "      <td>0</td>\n",
       "      <td>0</td>\n",
       "      <td>0</td>\n",
       "      <td>0</td>\n",
       "      <td>0</td>\n",
       "    </tr>\n",
       "    <tr>\n",
       "      <th>3</th>\n",
       "      <td>20000000</td>\n",
       "      <td>2018.0</td>\n",
       "      <td>0</td>\n",
       "      <td>0</td>\n",
       "      <td>0</td>\n",
       "      <td>0</td>\n",
       "      <td>0</td>\n",
       "      <td>0</td>\n",
       "      <td>0</td>\n",
       "      <td>0</td>\n",
       "      <td>...</td>\n",
       "      <td>0</td>\n",
       "      <td>0</td>\n",
       "      <td>0</td>\n",
       "      <td>0</td>\n",
       "      <td>0</td>\n",
       "      <td>0</td>\n",
       "      <td>0</td>\n",
       "      <td>0</td>\n",
       "      <td>0</td>\n",
       "      <td>0</td>\n",
       "    </tr>\n",
       "    <tr>\n",
       "      <th>4</th>\n",
       "      <td>100000000</td>\n",
       "      <td>2018.0</td>\n",
       "      <td>0</td>\n",
       "      <td>0</td>\n",
       "      <td>0</td>\n",
       "      <td>0</td>\n",
       "      <td>0</td>\n",
       "      <td>0</td>\n",
       "      <td>0</td>\n",
       "      <td>0</td>\n",
       "      <td>...</td>\n",
       "      <td>0</td>\n",
       "      <td>0</td>\n",
       "      <td>0</td>\n",
       "      <td>0</td>\n",
       "      <td>0</td>\n",
       "      <td>0</td>\n",
       "      <td>0</td>\n",
       "      <td>0</td>\n",
       "      <td>0</td>\n",
       "      <td>0</td>\n",
       "    </tr>\n",
       "  </tbody>\n",
       "</table>\n",
       "<p>5 rows × 146 columns</p>\n",
       "</div>"
      ],
      "text/plain": [
       "    totalamt    year  Adult; Basic and Continuing Education  Agency reform  \\\n",
       "0          0  2018.0                                      0              0   \n",
       "1  200000000  2018.0                                      0              0   \n",
       "2   58330000  2018.0                                      0              0   \n",
       "3   20000000  2018.0                                      0              0   \n",
       "4  100000000  2018.0                                      0              0   \n",
       "\n",
       "   Agricultural Extension; Research; and Other Support Activities  \\\n",
       "0                                                  0                \n",
       "1                                                  0                \n",
       "2                                                  0                \n",
       "3                                                  0                \n",
       "4                                                  0                \n",
       "\n",
       "   Agricultural credit  Agricultural extension  \\\n",
       "0                    0                       0   \n",
       "1                    0                       0   \n",
       "2                    0                       0   \n",
       "3                    0                       0   \n",
       "4                    0                       0   \n",
       "\n",
       "   Agricultural markets; commercialization and agri-business  \\\n",
       "0                                                  0           \n",
       "1                                                  0           \n",
       "2                                                  0           \n",
       "3                                                  0           \n",
       "4                                                  0           \n",
       "\n",
       "   Agriculture adjustment  Agro-industry  ...  Urban environment  \\\n",
       "0                       0              0  ...                  0   \n",
       "1                       0              0  ...                  0   \n",
       "2                       0              0  ...                  0   \n",
       "3                       0              0  ...                  0   \n",
       "4                       0              0  ...                  0   \n",
       "\n",
       "   Urban housing  Urban management  Urban transport  Urban water supply  \\\n",
       "0              0                 0                0                   0   \n",
       "1              0                 0                0                   0   \n",
       "2              0                 0                0                   0   \n",
       "3              0                 0                0                   0   \n",
       "4              0                 0                0                   0   \n",
       "\n",
       "   Vocational training  Waste Management  Water Supply  \\\n",
       "0                    0                 0             0   \n",
       "1                    0                 0             0   \n",
       "2                    0                 0             0   \n",
       "3                    0                 0             0   \n",
       "4                    0                 0             0   \n",
       "\n",
       "   Water supply and sanitation adjustment  \\\n",
       "0                                       0   \n",
       "1                                       0   \n",
       "2                                       0   \n",
       "3                                       0   \n",
       "4                                       0   \n",
       "\n",
       "   Workforce Development and Vocational Education  \n",
       "0                                               0  \n",
       "1                                               0  \n",
       "2                                               0  \n",
       "3                                               0  \n",
       "4                                               0  \n",
       "\n",
       "[5 rows x 146 columns]"
      ]
     },
     "execution_count": 24,
     "metadata": {},
     "output_type": "execute_result"
    }
   ],
   "source": [
    "# TODO: Create dummy variables from the sector1_aggregates data. Put the results into a dataframe called dummies\n",
    "# Hint: Use the get_dummies method\n",
    "dummies = pd.get_dummies(sector['sector1_aggregates'])\n",
    "\n",
    "# TODO: Create a new dataframe called df by \n",
    "#       filtering the projects data for the totalamt and\n",
    "#       the year from boardapprovaldate\n",
    "projects['year'] = projects['boardapprovaldate'].dt.year\n",
    "df = projects[['totalamt','year']]\n",
    "\n",
    "# TODO: Concatenate the results of dummies and projects\n",
    "#       into a single data frame\n",
    "df_final = pd.concat((df,dummies),axis=1)\n",
    "\n",
    "df_final.head()"
   ]
  },
  {
   "cell_type": "code",
   "execution_count": 25,
   "metadata": {},
   "outputs": [
    {
     "data": {
      "text/plain": [
       "(18248, 146)"
      ]
     },
     "execution_count": 25,
     "metadata": {},
     "output_type": "execute_result"
    }
   ],
   "source": [
    "df_final.shape"
   ]
  },
  {
   "cell_type": "markdown",
   "metadata": {},
   "source": [
    "# Conclusion\n",
    "\n",
    "Pandas makes it relatively easy to create dummy variables; however, oftentimes you'll need to clean the data first."
   ]
  }
 ],
 "metadata": {
  "kernelspec": {
   "display_name": "Python 3",
   "language": "python",
   "name": "python3"
  },
  "language_info": {
   "codemirror_mode": {
    "name": "ipython",
    "version": 3
   },
   "file_extension": ".py",
   "mimetype": "text/x-python",
   "name": "python",
   "nbconvert_exporter": "python",
   "pygments_lexer": "ipython3",
   "version": "3.7.6"
  }
 },
 "nbformat": 4,
 "nbformat_minor": 2
}
